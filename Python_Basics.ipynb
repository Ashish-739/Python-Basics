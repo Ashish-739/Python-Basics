{
  "nbformat": 4,
  "nbformat_minor": 0,
  "metadata": {
    "colab": {
      "provenance": []
    },
    "kernelspec": {
      "name": "python3",
      "display_name": "Python 3"
    },
    "language_info": {
      "name": "python"
    }
  },
  "cells": [
    {
      "cell_type": "code",
      "execution_count": null,
      "metadata": {
        "id": "bqjUUrgcbmKQ"
      },
      "outputs": [],
      "source": []
    },
    {
      "cell_type": "markdown",
      "source": [
        "1.What is Python, and why is it popular?\n",
        "    -Python is a high-level programming language known for its simplicity and readability. It’s popular because it has a vast community, extensive libraries, and frameworks that make it suitable for various applications, from web development to data analysis and artificial intelligence.\n",
        "\n",
        "2.What is an interpreter in Python?\n",
        "    -An interpreter in Python is a program that executes Python code line by line. Unlike compiled languages, where the entire code is translated into machine code before execution, Python interpreters allow for immediate execution, which makes debugging easier and speeds up the development process.\n",
        "\n",
        "3.What are pre-defined keywords in Python?\n",
        "    -Pre-defined keywords in Python are reserved words that have special meanings and cannot be used as identifiers (like variable names). Examples include if, else, for, while, and def. These keywords help define the structure and flow of the program.\n",
        "\n",
        "4.Can keywords be used as variable names?\n",
        "    -No, keywords cannot be used as variable names in Python. Since they have specific functions in the language, using them as identifiers would lead to confusion and errors in the code.\n",
        "\n",
        "5.What is mutability in Python?\n",
        "    -Mutability refers to the ability of an object to be changed after it has been created. In Python, mutable objects can be modified, while immutable objects cannot be changed once they are created.\n",
        "\n",
        "6.Why are lists mutable, but tuples are immutable?\n",
        "    -Lists are designed to be mutable so that we can easily add, remove, or change elements. Tuples, on the other hand, are immutable to provide a fixed structure, which can be beneficial for ensuring data integrity and for use as keys in dictionaries.\n",
        "\n",
        "7.What is the difference between \"is\" and \"==\" operators in Python?\n",
        "    -The is operator checks for identity, meaning it checks whether two variables point to the same object in memory. The == operator checks for equality, meaning it checks whether the values of two objects are the same, regardless of whether they are the same object in memory.\n",
        "\n",
        "8.What are logical operators in Python?\n",
        "    -Logical operators in Python are used to combine conditional statements. The main logical operators are and, or, and not. They help in forming complex conditions by evaluating the truthiness of multiple expressions.\n",
        "\n",
        "9.What is type casting in Python?\n",
        "    -Type casting is the process of converting one data type into another. In Python, we can explicitly convert types using functions like int(), float(), and str(), allowing us to manipulate data in the desired format.\n",
        "\n",
        "10.What is the difference between implicit and explicit type casting?\n",
        "    -Implicit type casting, also known as coercion, happens automatically when Python converts one data type to another without any user intervention, like converting an integer to a float in an arithmetic operation. Explicit type casting requires the programmer to specify the conversion, such as using int() to convert a string to an integer.\n",
        "\n",
        "11.What is the purpose of conditional statements in Python?\n",
        "    -Conditional statements allow us to execute certain blocks of code based on specific conditions. They help in controlling the flow of the program, enabling different outcomes based on varying inputs or states.\n",
        "\n",
        "12.How does the elif statement work?\n",
        "    -The elif statement stands for \"else if\" and is used to check multiple conditions in a sequence. If the initial if condition is false, Python checks the elif conditions one by one until it finds one that is true or reaches the end of the chain.\n",
        "\n",
        "13.What is the difference between for and while loops?\n",
        "    -A for loop is used to iterate over a sequence (like a list or a range), executing a block of code for each item. A while loop continues to execute as long as a specified condition is true, making it more suitable for situations where the number of iterations is not known in advance.\n",
        "\n",
        "14.Describe a scenario where a while loop is more suitable than a for loop.\n",
        "    -A while loop is more suitable in scenarios where we need to keep asking for user input until they provide a valid response. For example, if we want to keep prompting a user to enter a password until they enter the correct one, a while loop would be ideal since we don’t know how many attempts it might take."
      ],
      "metadata": {
        "id": "o_y_9K8lcKey"
      }
    },
    {
      "cell_type": "code",
      "source": [
        "# 1. Write a Python program to print \"Hello, World!\"\n",
        " print(\"Hello, World!\")"
      ],
      "metadata": {
        "colab": {
          "base_uri": "https://localhost:8080/"
        },
        "id": "ffdQ9ys1dJAr",
        "outputId": "a3fa68df-d159-4c5e-b6d7-8ec0f0fa800a"
      },
      "execution_count": 1,
      "outputs": [
        {
          "output_type": "stream",
          "name": "stdout",
          "text": [
            "Hello, World!\n"
          ]
        }
      ]
    },
    {
      "cell_type": "code",
      "source": [
        "# 2. Write a Python program that displays your name and age.\n",
        "name = \"Ashish\"\n",
        "Age = \"27\"\n",
        "print(name)\n",
        "print(Age)"
      ],
      "metadata": {
        "colab": {
          "base_uri": "https://localhost:8080/"
        },
        "id": "xfczIDwXdLYz",
        "outputId": "2d17af87-1f93-42d9-f844-fd46271aa137"
      },
      "execution_count": 3,
      "outputs": [
        {
          "output_type": "stream",
          "name": "stdout",
          "text": [
            "Ashish\n",
            "27\n"
          ]
        }
      ]
    },
    {
      "cell_type": "code",
      "source": [
        "# 3. Write code to print all the pre-defined keywords in Python using the\n",
        "import keyword  # Import the keyword module\n",
        "print(keyword.kwlist)\n",
        "\n"
      ],
      "metadata": {
        "colab": {
          "base_uri": "https://localhost:8080/"
        },
        "id": "9HcWHNj6ddYI",
        "outputId": "88c8dc73-85b0-443b-a46a-7ffb7d27aa99"
      },
      "execution_count": 6,
      "outputs": [
        {
          "output_type": "stream",
          "name": "stdout",
          "text": [
            "['False', 'None', 'True', 'and', 'as', 'assert', 'async', 'await', 'break', 'class', 'continue', 'def', 'del', 'elif', 'else', 'except', 'finally', 'for', 'from', 'global', 'if', 'import', 'in', 'is', 'lambda', 'nonlocal', 'not', 'or', 'pass', 'raise', 'return', 'try', 'while', 'with', 'yield']\n"
          ]
        }
      ]
    },
    {
      "cell_type": "code",
      "source": [
        "# 4. Write a program that checks if a given word is a Python keyword.\n",
        "a = \"delhi\"\n",
        "keyword.iskeyword(\"delhi\")\n"
      ],
      "metadata": {
        "colab": {
          "base_uri": "https://localhost:8080/"
        },
        "id": "5Qx6jDJ2dplk",
        "outputId": "88b71252-20bc-4610-e14e-14865a2aa72f"
      },
      "execution_count": 12,
      "outputs": [
        {
          "output_type": "execute_result",
          "data": {
            "text/plain": [
              "False"
            ]
          },
          "metadata": {},
          "execution_count": 12
        }
      ]
    },
    {
      "cell_type": "code",
      "source": [
        "# 5. Create a list and tuple in Python, and demonstrate how attempting to change an element works differently for each.\n",
        "my_list = [1, 2, 3]\n",
        "my_tuple = (1, 2, 3)\n",
        "print(\"Original list:\", my_list)\n",
        "my_list[0] = 10\n",
        "print(\"Modified list:\", my_list)"
      ],
      "metadata": {
        "colab": {
          "base_uri": "https://localhost:8080/"
        },
        "id": "b-mhAX7peUQJ",
        "outputId": "58886dcd-8676-4fc5-9ac8-b05e97542a98"
      },
      "execution_count": 14,
      "outputs": [
        {
          "output_type": "stream",
          "name": "stdout",
          "text": [
            "Original list: [1, 2, 3]\n",
            "Modified list: [10, 2, 3]\n"
          ]
        }
      ]
    },
    {
      "cell_type": "code",
      "source": [
        "print(\"Original tuple:\", my_tuple)\n",
        "try:\n",
        "    my_tuple[0] = 10  # This will raise an error\n",
        "except TypeError as e:\n",
        "    print(\"Error:\", e)"
      ],
      "metadata": {
        "colab": {
          "base_uri": "https://localhost:8080/"
        },
        "id": "3_ePpN3SfHfS",
        "outputId": "95a83da9-6aab-49a2-d154-582b57031ca2"
      },
      "execution_count": 15,
      "outputs": [
        {
          "output_type": "stream",
          "name": "stdout",
          "text": [
            "Original tuple: (1, 2, 3)\n",
            "Error: 'tuple' object does not support item assignment\n"
          ]
        }
      ]
    },
    {
      "cell_type": "code",
      "source": [
        "# 6. Write a function to demonstrate the behavior of mutable and immutable arguments.\n",
        "def modify_list(lst):\n",
        "    lst.append(4)\n",
        "\n",
        "my_list = [1, 2, 3]\n",
        "modify_list(my_list)\n",
        "print(my_list)"
      ],
      "metadata": {
        "colab": {
          "base_uri": "https://localhost:8080/"
        },
        "id": "DKRBX_-YfcYT",
        "outputId": "4ba6f225-4c57-450e-b32d-d5336a2bd352"
      },
      "execution_count": 16,
      "outputs": [
        {
          "output_type": "stream",
          "name": "stdout",
          "text": [
            "[1, 2, 3, 4]\n"
          ]
        }
      ]
    },
    {
      "cell_type": "code",
      "source": [
        "# 7. (Duplicate of question\n"
      ],
      "metadata": {
        "id": "LW76NxdEfjiw"
      },
      "execution_count": 17,
      "outputs": []
    },
    {
      "cell_type": "code",
      "source": [
        "# 8. Write a program to demonstrate the use of logical operators.\n",
        "a = True\n",
        "b = False\n",
        "print(\"Logical AND:\", a and b)\n",
        "print(\"Logical OR:\", a or b)\n",
        "print(\"Logical NOT:\", not a)"
      ],
      "metadata": {
        "colab": {
          "base_uri": "https://localhost:8080/"
        },
        "id": "hbicFDNVfvwl",
        "outputId": "b5df5f76-351c-4d9c-b80b-25ce40d9d8cc"
      },
      "execution_count": 18,
      "outputs": [
        {
          "output_type": "stream",
          "name": "stdout",
          "text": [
            "Logical AND: False\n",
            "Logical OR: True\n",
            "Logical NOT: False\n"
          ]
        }
      ]
    },
    {
      "cell_type": "code",
      "source": [
        "# 9. Write a Python program to convert user input from string to integer, float, and boolean types.\n",
        "user_input = input(\"Enter a value: \")\n",
        "integer_value = int(user_input)\n",
        "float_value = float(user_input)\n",
        "boolean_value = bool(user_input)"
      ],
      "metadata": {
        "id": "QDneTtSxfy4m"
      },
      "execution_count": null,
      "outputs": []
    },
    {
      "cell_type": "code",
      "source": [
        "# 10. Write code to demonstrate type casting with list elements.\n",
        "my_list = [\"1\", \"2\", \"3\",\"2.5\"]\n",
        "integer_list = [int(2) for element in my_list]\n",
        "float_list = [float(2.5) for element in my_list]"
      ],
      "metadata": {
        "id": "wDQq1p4ugHq6"
      },
      "execution_count": null,
      "outputs": []
    },
    {
      "cell_type": "code",
      "source": [
        "# 12. Write a for loop to print numbers from 1 to 10.\n",
        "for i in range(1, 11):\n",
        "    print(i)\n",
        ""
      ],
      "metadata": {
        "colab": {
          "base_uri": "https://localhost:8080/"
        },
        "id": "i8GC10q-ghS3",
        "outputId": "4246fdb5-208e-448a-a7b5-38fd2ed7b78a"
      },
      "execution_count": 20,
      "outputs": [
        {
          "output_type": "stream",
          "name": "stdout",
          "text": [
            "1\n",
            "2\n",
            "3\n",
            "4\n",
            "5\n",
            "6\n",
            "7\n",
            "8\n",
            "9\n",
            "10\n"
          ]
        }
      ]
    },
    {
      "cell_type": "code",
      "source": [
        "# 13. Write a Python program to find the sum of all even numbers between 1 and 50.\n",
        "sum_of_even = 0\n",
        "for number in range(1, 51):\n",
        "    if number % 2 == 0:\n",
        "        sum_of_even += number"
      ],
      "metadata": {
        "id": "zBFcSMgnhZrh"
      },
      "execution_count": 22,
      "outputs": []
    },
    {
      "cell_type": "code",
      "source": [
        "# 14. Write a program to reverse a string using a while loop.\n",
        "input_string = \"Ashish\"\n",
        "reversed_string = \"\"\n",
        "index = len(input_string) - 1\n",
        "while index >= 0:\n",
        "    reversed_string += input_string[index]\n",
        "    index -= 1"
      ],
      "metadata": {
        "id": "MV-kp25bhnf3"
      },
      "execution_count": 28,
      "outputs": []
    },
    {
      "cell_type": "code",
      "source": [
        "# 15. Write a Python program to calculate the factorial of a number provided by the user using a while loop.\n",
        "num = int(input(\"Enter a number to calculate its factorial: \"))\n",
        "factorial = 1\n",
        "current = 1\n",
        "while current <= num:\n",
        "    factorial *= current\n",
        "    current += 1"
      ],
      "metadata": {
        "colab": {
          "base_uri": "https://localhost:8080/"
        },
        "id": "dbSFS5Fdhyzl",
        "outputId": "3536de3c-68e3-4f85-8f1d-453c9667a082"
      },
      "execution_count": 29,
      "outputs": [
        {
          "name": "stdout",
          "output_type": "stream",
          "text": [
            "Enter a number to calculate its factorial: 2\n"
          ]
        }
      ]
    },
    {
      "cell_type": "markdown",
      "source": [],
      "metadata": {
        "id": "WEmLFYYbiymK"
      }
    }
  ]
}